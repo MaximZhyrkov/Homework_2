{
 "cells": [
  {
   "cell_type": "code",
   "execution_count": 257,
   "metadata": {
    "collapsed": true
   },
   "outputs": [],
   "source": [
    "import pandas as pd\n",
    "import numpy as np\n",
    "from scipy import stats as stats\n",
    "from scipy.stats import norm\n",
    "from matplotlib import pyplot as plt\n",
    "\n",
    "%matplotlib inline"
   ]
  },
  {
   "cell_type": "code",
   "execution_count": 258,
   "metadata": {
    "collapsed": false
   },
   "outputs": [],
   "source": [
    "raw_data = pd.read_csv('hw_25000.csv', delimiter=';', header=1, names=['Index', 'Height(Inches)', 'Weight(Pounds)'])"
   ]
  },
  {
   "cell_type": "code",
   "execution_count": 259,
   "metadata": {
    "collapsed": false
   },
   "outputs": [
    {
     "name": "stdout",
     "output_type": "stream",
     "text": [
      "<class 'pandas.core.frame.DataFrame'>\n",
      "RangeIndex: 25000 entries, 0 to 24999\n",
      "Data columns (total 3 columns):\n",
      "Index             25000 non-null int64\n",
      "Height(Inches)    25000 non-null float64\n",
      "Weight(Pounds)    25000 non-null float64\n",
      "dtypes: float64(2), int64(1)\n",
      "memory usage: 586.0 KB\n"
     ]
    }
   ],
   "source": [
    "raw_data.info()"
   ]
  },
  {
   "cell_type": "code",
   "execution_count": 260,
   "metadata": {
    "collapsed": false
   },
   "outputs": [
    {
     "data": {
      "text/html": [
       "<div>\n",
       "<table border=\"1\" class=\"dataframe\">\n",
       "  <thead>\n",
       "    <tr style=\"text-align: right;\">\n",
       "      <th></th>\n",
       "      <th>Index</th>\n",
       "      <th>Height(Inches)</th>\n",
       "      <th>Weight(Pounds)</th>\n",
       "      <th>Height(Cm)</th>\n",
       "      <th>Weight(Kg)</th>\n",
       "    </tr>\n",
       "  </thead>\n",
       "  <tbody>\n",
       "    <tr>\n",
       "      <th>0</th>\n",
       "      <td>1</td>\n",
       "      <td>65.78331</td>\n",
       "      <td>112.9925</td>\n",
       "      <td>167.089607</td>\n",
       "      <td>50.846625</td>\n",
       "    </tr>\n",
       "    <tr>\n",
       "      <th>1</th>\n",
       "      <td>2</td>\n",
       "      <td>71.51521</td>\n",
       "      <td>136.4873</td>\n",
       "      <td>181.648633</td>\n",
       "      <td>61.419285</td>\n",
       "    </tr>\n",
       "    <tr>\n",
       "      <th>2</th>\n",
       "      <td>3</td>\n",
       "      <td>69.39874</td>\n",
       "      <td>153.0269</td>\n",
       "      <td>176.272800</td>\n",
       "      <td>68.862105</td>\n",
       "    </tr>\n",
       "    <tr>\n",
       "      <th>3</th>\n",
       "      <td>4</td>\n",
       "      <td>68.21660</td>\n",
       "      <td>142.3354</td>\n",
       "      <td>173.270164</td>\n",
       "      <td>64.050930</td>\n",
       "    </tr>\n",
       "    <tr>\n",
       "      <th>4</th>\n",
       "      <td>5</td>\n",
       "      <td>67.78781</td>\n",
       "      <td>144.2971</td>\n",
       "      <td>172.181037</td>\n",
       "      <td>64.933695</td>\n",
       "    </tr>\n",
       "  </tbody>\n",
       "</table>\n",
       "</div>"
      ],
      "text/plain": [
       "   Index  Height(Inches)  Weight(Pounds)  Height(Cm)  Weight(Kg)\n",
       "0      1        65.78331        112.9925  167.089607   50.846625\n",
       "1      2        71.51521        136.4873  181.648633   61.419285\n",
       "2      3        69.39874        153.0269  176.272800   68.862105\n",
       "3      4        68.21660        142.3354  173.270164   64.050930\n",
       "4      5        67.78781        144.2971  172.181037   64.933695"
      ]
     },
     "execution_count": 260,
     "metadata": {},
     "output_type": "execute_result"
    }
   ],
   "source": [
    "raw_data['Height(Cm)'] = raw_data['Height(Inches)']*2.54\n",
    "raw_data['Weight(Kg)'] = raw_data['Weight(Pounds)']*0.45\n",
    "\n",
    "raw_data.head()"
   ]
  },
  {
   "cell_type": "code",
   "execution_count": 261,
   "metadata": {
    "collapsed": false
   },
   "outputs": [
    {
     "data": {
      "text/html": [
       "<div>\n",
       "<table border=\"1\" class=\"dataframe\">\n",
       "  <thead>\n",
       "    <tr style=\"text-align: right;\">\n",
       "      <th></th>\n",
       "      <th>Index</th>\n",
       "      <th>Height(Inches)</th>\n",
       "      <th>Weight(Pounds)</th>\n",
       "      <th>Height(Cm)</th>\n",
       "      <th>Weight(Kg)</th>\n",
       "      <th>Sample_Height</th>\n",
       "      <th>Sample_Weight</th>\n",
       "    </tr>\n",
       "  </thead>\n",
       "  <tbody>\n",
       "    <tr>\n",
       "      <th>0</th>\n",
       "      <td>1</td>\n",
       "      <td>65.78331</td>\n",
       "      <td>112.9925</td>\n",
       "      <td>167.089607</td>\n",
       "      <td>50.846625</td>\n",
       "      <td>167.089607</td>\n",
       "      <td>50.846625</td>\n",
       "    </tr>\n",
       "    <tr>\n",
       "      <th>1</th>\n",
       "      <td>2</td>\n",
       "      <td>71.51521</td>\n",
       "      <td>136.4873</td>\n",
       "      <td>181.648633</td>\n",
       "      <td>61.419285</td>\n",
       "      <td>181.648633</td>\n",
       "      <td>61.419285</td>\n",
       "    </tr>\n",
       "    <tr>\n",
       "      <th>2</th>\n",
       "      <td>3</td>\n",
       "      <td>69.39874</td>\n",
       "      <td>153.0269</td>\n",
       "      <td>176.272800</td>\n",
       "      <td>68.862105</td>\n",
       "      <td>176.272800</td>\n",
       "      <td>68.862105</td>\n",
       "    </tr>\n",
       "    <tr>\n",
       "      <th>3</th>\n",
       "      <td>4</td>\n",
       "      <td>68.21660</td>\n",
       "      <td>142.3354</td>\n",
       "      <td>173.270164</td>\n",
       "      <td>64.050930</td>\n",
       "      <td>173.270164</td>\n",
       "      <td>64.050930</td>\n",
       "    </tr>\n",
       "    <tr>\n",
       "      <th>4</th>\n",
       "      <td>5</td>\n",
       "      <td>67.78781</td>\n",
       "      <td>144.2971</td>\n",
       "      <td>172.181037</td>\n",
       "      <td>64.933695</td>\n",
       "      <td>172.181037</td>\n",
       "      <td>64.933695</td>\n",
       "    </tr>\n",
       "  </tbody>\n",
       "</table>\n",
       "</div>"
      ],
      "text/plain": [
       "   Index  Height(Inches)  Weight(Pounds)  Height(Cm)  Weight(Kg)  \\\n",
       "0      1        65.78331        112.9925  167.089607   50.846625   \n",
       "1      2        71.51521        136.4873  181.648633   61.419285   \n",
       "2      3        69.39874        153.0269  176.272800   68.862105   \n",
       "3      4        68.21660        142.3354  173.270164   64.050930   \n",
       "4      5        67.78781        144.2971  172.181037   64.933695   \n",
       "\n",
       "   Sample_Height  Sample_Weight  \n",
       "0     167.089607      50.846625  \n",
       "1     181.648633      61.419285  \n",
       "2     176.272800      68.862105  \n",
       "3     173.270164      64.050930  \n",
       "4     172.181037      64.933695  "
      ]
     },
     "execution_count": 261,
     "metadata": {},
     "output_type": "execute_result"
    }
   ],
   "source": [
    "raw_data['Sample_Height'] = raw_data['Height(Cm)']\n",
    "raw_data['Sample_Weight'] = raw_data['Weight(Kg)']\n",
    "\n",
    "\n",
    "raw_data.head()"
   ]
  },
  {
   "cell_type": "code",
   "execution_count": 288,
   "metadata": {
    "collapsed": false
   },
   "outputs": [
    {
     "data": {
      "text/plain": [
       "count    25000.000000\n",
       "mean       172.702509\n",
       "std          4.830264\n",
       "min        153.107034\n",
       "25%        169.429170\n",
       "50%        172.709078\n",
       "75%        175.953312\n",
       "max        190.888112\n",
       "Name: Sample_Height, dtype: float64"
      ]
     },
     "execution_count": 288,
     "metadata": {},
     "output_type": "execute_result"
    }
   ],
   "source": [
    "raw_data.Sample_Height.describe()"
   ]
  },
  {
   "cell_type": "code",
   "execution_count": 262,
   "metadata": {
    "collapsed": false
   },
   "outputs": [],
   "source": [
    "mask_1 = (raw_data.Sample_Height >= 170)\n",
    "mask_2 = (raw_data.Sample_Height <= 180)"
   ]
  },
  {
   "cell_type": "code",
   "execution_count": 263,
   "metadata": {
    "collapsed": false
   },
   "outputs": [
    {
     "data": {
      "text/html": [
       "<div>\n",
       "<table border=\"1\" class=\"dataframe\">\n",
       "  <thead>\n",
       "    <tr style=\"text-align: right;\">\n",
       "      <th></th>\n",
       "      <th>Index</th>\n",
       "      <th>Height(Inches)</th>\n",
       "      <th>Weight(Pounds)</th>\n",
       "      <th>Height(Cm)</th>\n",
       "      <th>Weight(Kg)</th>\n",
       "      <th>Sample_Height</th>\n",
       "      <th>Sample_Weight</th>\n",
       "    </tr>\n",
       "  </thead>\n",
       "  <tbody>\n",
       "    <tr>\n",
       "      <th>1</th>\n",
       "      <td>2</td>\n",
       "      <td>71.51521</td>\n",
       "      <td>136.4873</td>\n",
       "      <td>181.648633</td>\n",
       "      <td>61.419285</td>\n",
       "      <td>181.648633</td>\n",
       "      <td>61.419285</td>\n",
       "    </tr>\n",
       "    <tr>\n",
       "      <th>2</th>\n",
       "      <td>3</td>\n",
       "      <td>69.39874</td>\n",
       "      <td>153.0269</td>\n",
       "      <td>176.272800</td>\n",
       "      <td>68.862105</td>\n",
       "      <td>176.272800</td>\n",
       "      <td>68.862105</td>\n",
       "    </tr>\n",
       "    <tr>\n",
       "      <th>3</th>\n",
       "      <td>4</td>\n",
       "      <td>68.21660</td>\n",
       "      <td>142.3354</td>\n",
       "      <td>173.270164</td>\n",
       "      <td>64.050930</td>\n",
       "      <td>173.270164</td>\n",
       "      <td>64.050930</td>\n",
       "    </tr>\n",
       "    <tr>\n",
       "      <th>4</th>\n",
       "      <td>5</td>\n",
       "      <td>67.78781</td>\n",
       "      <td>144.2971</td>\n",
       "      <td>172.181037</td>\n",
       "      <td>64.933695</td>\n",
       "      <td>172.181037</td>\n",
       "      <td>64.933695</td>\n",
       "    </tr>\n",
       "    <tr>\n",
       "      <th>5</th>\n",
       "      <td>6</td>\n",
       "      <td>68.69784</td>\n",
       "      <td>123.3024</td>\n",
       "      <td>174.492514</td>\n",
       "      <td>55.486080</td>\n",
       "      <td>174.492514</td>\n",
       "      <td>55.486080</td>\n",
       "    </tr>\n",
       "  </tbody>\n",
       "</table>\n",
       "</div>"
      ],
      "text/plain": [
       "   Index  Height(Inches)  Weight(Pounds)  Height(Cm)  Weight(Kg)  \\\n",
       "1      2        71.51521        136.4873  181.648633   61.419285   \n",
       "2      3        69.39874        153.0269  176.272800   68.862105   \n",
       "3      4        68.21660        142.3354  173.270164   64.050930   \n",
       "4      5        67.78781        144.2971  172.181037   64.933695   \n",
       "5      6        68.69784        123.3024  174.492514   55.486080   \n",
       "\n",
       "   Sample_Height  Sample_Weight  \n",
       "1     181.648633      61.419285  \n",
       "2     176.272800      68.862105  \n",
       "3     173.270164      64.050930  \n",
       "4     172.181037      64.933695  \n",
       "5     174.492514      55.486080  "
      ]
     },
     "execution_count": 263,
     "metadata": {},
     "output_type": "execute_result"
    }
   ],
   "source": [
    "raw_data_sorted = raw_data.loc[mask_1]\n",
    "raw_data_sorted.head()"
   ]
  },
  {
   "cell_type": "code",
   "execution_count": 290,
   "metadata": {
    "collapsed": false
   },
   "outputs": [
    {
     "data": {
      "text/plain": [
       "count    17787.000000\n",
       "mean       175.025971\n",
       "std          3.411931\n",
       "min        170.000574\n",
       "25%        172.316915\n",
       "50%        174.486900\n",
       "75%        177.167959\n",
       "max        190.888112\n",
       "Name: Sample_Height, dtype: float64"
      ]
     },
     "execution_count": 290,
     "metadata": {},
     "output_type": "execute_result"
    }
   ],
   "source": [
    "raw_data_sorted.Sample_Height.describe()"
   ]
  },
  {
   "cell_type": "code",
   "execution_count": 270,
   "metadata": {
    "collapsed": false
   },
   "outputs": [
    {
     "name": "stderr",
     "output_type": "stream",
     "text": [
      "D:\\Anaconda\\lib\\site-packages\\ipykernel\\__main__.py:1: UserWarning: Boolean Series key will be reindexed to match DataFrame index.\n",
      "  if __name__ == '__main__':\n"
     ]
    },
    {
     "data": {
      "text/html": [
       "<div>\n",
       "<table border=\"1\" class=\"dataframe\">\n",
       "  <thead>\n",
       "    <tr style=\"text-align: right;\">\n",
       "      <th></th>\n",
       "      <th>Index</th>\n",
       "      <th>Height(Inches)</th>\n",
       "      <th>Weight(Pounds)</th>\n",
       "      <th>Height(Cm)</th>\n",
       "      <th>Weight(Kg)</th>\n",
       "      <th>Sample_Height</th>\n",
       "      <th>Sample_Weight</th>\n",
       "    </tr>\n",
       "  </thead>\n",
       "  <tbody>\n",
       "    <tr>\n",
       "      <th>2</th>\n",
       "      <td>3</td>\n",
       "      <td>69.39874</td>\n",
       "      <td>153.0269</td>\n",
       "      <td>176.272800</td>\n",
       "      <td>68.862105</td>\n",
       "      <td>176.272800</td>\n",
       "      <td>68.862105</td>\n",
       "    </tr>\n",
       "    <tr>\n",
       "      <th>3</th>\n",
       "      <td>4</td>\n",
       "      <td>68.21660</td>\n",
       "      <td>142.3354</td>\n",
       "      <td>173.270164</td>\n",
       "      <td>64.050930</td>\n",
       "      <td>173.270164</td>\n",
       "      <td>64.050930</td>\n",
       "    </tr>\n",
       "    <tr>\n",
       "      <th>4</th>\n",
       "      <td>5</td>\n",
       "      <td>67.78781</td>\n",
       "      <td>144.2971</td>\n",
       "      <td>172.181037</td>\n",
       "      <td>64.933695</td>\n",
       "      <td>172.181037</td>\n",
       "      <td>64.933695</td>\n",
       "    </tr>\n",
       "    <tr>\n",
       "      <th>5</th>\n",
       "      <td>6</td>\n",
       "      <td>68.69784</td>\n",
       "      <td>123.3024</td>\n",
       "      <td>174.492514</td>\n",
       "      <td>55.486080</td>\n",
       "      <td>174.492514</td>\n",
       "      <td>55.486080</td>\n",
       "    </tr>\n",
       "    <tr>\n",
       "      <th>6</th>\n",
       "      <td>7</td>\n",
       "      <td>69.80204</td>\n",
       "      <td>141.4947</td>\n",
       "      <td>177.297182</td>\n",
       "      <td>63.672615</td>\n",
       "      <td>177.297182</td>\n",
       "      <td>63.672615</td>\n",
       "    </tr>\n",
       "  </tbody>\n",
       "</table>\n",
       "</div>"
      ],
      "text/plain": [
       "   Index  Height(Inches)  Weight(Pounds)  Height(Cm)  Weight(Kg)  \\\n",
       "2      3        69.39874        153.0269  176.272800   68.862105   \n",
       "3      4        68.21660        142.3354  173.270164   64.050930   \n",
       "4      5        67.78781        144.2971  172.181037   64.933695   \n",
       "5      6        68.69784        123.3024  174.492514   55.486080   \n",
       "6      7        69.80204        141.4947  177.297182   63.672615   \n",
       "\n",
       "   Sample_Height  Sample_Weight  \n",
       "2     176.272800      68.862105  \n",
       "3     173.270164      64.050930  \n",
       "4     172.181037      64.933695  \n",
       "5     174.492514      55.486080  \n",
       "6     177.297182      63.672615  "
      ]
     },
     "execution_count": 270,
     "metadata": {},
     "output_type": "execute_result"
    }
   ],
   "source": [
    "raw_data_sorted_final = raw_data_sorted[mask_2]\n",
    "raw_data_sorted_final.head()"
   ]
  },
  {
   "cell_type": "code",
   "execution_count": 289,
   "metadata": {
    "collapsed": false
   },
   "outputs": [
    {
     "data": {
      "text/plain": [
       "count    16141.000000\n",
       "mean       174.309435\n",
       "std          2.633048\n",
       "min        170.000574\n",
       "25%        172.111721\n",
       "50%        174.084158\n",
       "75%        176.322126\n",
       "max        179.999869\n",
       "Name: Sample_Height, dtype: float64"
      ]
     },
     "execution_count": 289,
     "metadata": {},
     "output_type": "execute_result"
    }
   ],
   "source": [
    "raw_data_sorted_final.Sample_Height.describe()"
   ]
  },
  {
   "cell_type": "code",
   "execution_count": 278,
   "metadata": {
    "collapsed": false
   },
   "outputs": [
    {
     "data": {
      "text/plain": [
       "[68.86210500000001,\n",
       " 64.05093,\n",
       " 64.933695,\n",
       " 55.48608,\n",
       " 63.672615,\n",
       " 61.408035,\n",
       " 50.567535,\n",
       " 51.364349999999995,\n",
       " 56.524815,\n",
       " 55.10781,\n",
       " 52.23897,\n",
       " 64.337985,\n",
       " 55.820205,\n",
       " 63.576315,\n",
       " 64.59264,\n",
       " 58.276215,\n",
       " 63.832545,\n",
       " 58.375980000000006,\n",
       " 64.090575,\n",
       " 59.19759]"
      ]
     },
     "execution_count": 278,
     "metadata": {},
     "output_type": "execute_result"
    }
   ],
   "source": [
    "sample = raw_data_sorted_final['Sample_Weight'].head(20).tolist()\n",
    "sample"
   ]
  },
  {
   "cell_type": "code",
   "execution_count": 279,
   "metadata": {
    "collapsed": false
   },
   "outputs": [
    {
     "data": {
      "text/plain": [
       "59.815849499999999"
      ]
     },
     "execution_count": 279,
     "metadata": {},
     "output_type": "execute_result"
    }
   ],
   "source": [
    "np.mean(sample)"
   ]
  },
  {
   "cell_type": "code",
   "execution_count": 280,
   "metadata": {
    "collapsed": false
   },
   "outputs": [
    {
     "data": {
      "text/plain": [
       "57.18573952236008"
      ]
     },
     "execution_count": 280,
     "metadata": {},
     "output_type": "execute_result"
    }
   ],
   "source": [
    "raw_data['Weight(Kg)'].mean()"
   ]
  },
  {
   "cell_type": "code",
   "execution_count": 281,
   "metadata": {
    "collapsed": false
   },
   "outputs": [
    {
     "data": {
      "text/plain": [
       "Ttest_1sampResult(statistic=2.2438433326709291, pvalue=0.036952752151285718)"
      ]
     },
     "execution_count": 281,
     "metadata": {},
     "output_type": "execute_result"
    }
   ],
   "source": [
    "stats.ttest_1samp( sample, raw_data['Weight(Kg)'].mean())"
   ]
  }
 ],
 "metadata": {
  "kernelspec": {
   "display_name": "Python 3",
   "language": "python",
   "name": "python3"
  },
  "language_info": {
   "codemirror_mode": {
    "name": "ipython",
    "version": 3
   },
   "file_extension": ".py",
   "mimetype": "text/x-python",
   "name": "python",
   "nbconvert_exporter": "python",
   "pygments_lexer": "ipython3",
   "version": "3.6.0"
  }
 },
 "nbformat": 4,
 "nbformat_minor": 2
}
